{
 "cells": [
  {
   "cell_type": "code",
   "execution_count": 1,
   "metadata": {},
   "outputs": [
    {
     "name": "stderr",
     "output_type": "stream",
     "text": [
      "/Users/jmangia/anaconda2/envs/SwiftNLC/lib/python2.7/site-packages/h5py/__init__.py:34: FutureWarning: Conversion of the second argument of issubdtype from `float` to `np.floating` is deprecated. In future, it will be treated as `np.float64 == np.dtype(float).type`.\n",
      "  from ._conv import register_converters as _register_converters\n"
     ]
    }
   ],
   "source": [
    "import numpy as np\n",
    "import tensorflow as tf\n"
   ]
  },
  {
   "cell_type": "markdown",
   "metadata": {},
   "source": [
    "# Import word2vec vectorized traning dataset prepared with FastText"
   ]
  },
  {
   "cell_type": "code",
   "execution_count": 2,
   "metadata": {},
   "outputs": [],
   "source": [
    "# import intents file\n",
    "import json\n",
    "with open('vectorizedDataset.json') as json_data:\n",
    "    intents = json.load(json_data)"
   ]
  },
  {
   "cell_type": "code",
   "execution_count": 3,
   "metadata": {},
   "outputs": [
    {
     "name": "stdout",
     "output_type": "stream",
     "text": [
      "(8, 'classes')\n",
      "(100, 'vector size')\n",
      "(26, 100, 'x')\n",
      "(26, 8, 'y')\n",
      "(26, 100)\n",
      "(26, 8)\n"
     ]
    }
   ],
   "source": [
    "classes = len(intents['intents'])\n",
    "currentClass = 0\n",
    "train_x = []\n",
    "train_y = []\n",
    "\n",
    "for intent in intents['intents']:\n",
    "    y = [0] * classes\n",
    "    y[currentClass] = 1\n",
    "\n",
    "    for vector in intent['sentenceVectors']:\n",
    "        train_x.append(vector)\n",
    "        train_y.append(y)\n",
    "\n",
    "    currentClass += 1\n",
    "\n",
    "vectorSize = len(train_x[0])\n",
    "\n",
    "train_X = np.array(train_x)\n",
    "train_Y = np.array(train_y)\n",
    "\n",
    "print(classes, \"classes\")\n",
    "print(vectorSize, \"vector size\")\n",
    "print(len(train_x), len(train_x[0]), \"x\")\n",
    "print(len(train_y), len(train_y[0]), \"y\")\n",
    "print(train_X.shape)\n",
    "print(train_Y.shape)"
   ]
  },
  {
   "cell_type": "markdown",
   "metadata": {},
   "source": [
    "# Prepare Keras / TensorFlow model"
   ]
  },
  {
   "cell_type": "code",
   "execution_count": 4,
   "metadata": {},
   "outputs": [
    {
     "name": "stderr",
     "output_type": "stream",
     "text": [
      "Using TensorFlow backend.\n"
     ]
    }
   ],
   "source": [
    "from keras.models import Sequential, Model\n",
    "from keras.layers import Dense, Input, Bidirectional, LSTM, GRU, TimeDistributed, Activation, Flatten, Embedding\n",
    "from keras.optimizers import Adam\n"
   ]
  },
  {
   "cell_type": "code",
   "execution_count": 13,
   "metadata": {},
   "outputs": [
    {
     "name": "stdout",
     "output_type": "stream",
     "text": [
      "model fitting - Bidirectional GRU\n",
      "_________________________________________________________________\n",
      "Layer (type)                 Output Shape              Param #   \n",
      "=================================================================\n",
      "gru_3 (GRU)                  (1, None, 100)            60300     \n",
      "_________________________________________________________________\n",
      "time_distributed_7 (TimeDist (1, None, 64)             6464      \n",
      "_________________________________________________________________\n",
      "activation_7 (Activation)    (1, None, 64)             0         \n",
      "_________________________________________________________________\n",
      "time_distributed_8 (TimeDist (1, None, 32)             2080      \n",
      "_________________________________________________________________\n",
      "activation_8 (Activation)    (1, None, 32)             0         \n",
      "_________________________________________________________________\n",
      "time_distributed_9 (TimeDist (1, None, 8)              264       \n",
      "_________________________________________________________________\n",
      "activation_9 (Activation)    (1, None, 8)              0         \n",
      "=================================================================\n",
      "Total params: 69,108\n",
      "Trainable params: 69,108\n",
      "Non-trainable params: 0\n",
      "_________________________________________________________________\n"
     ]
    }
   ],
   "source": [
    "#sequence_input = Input(shape=(None, len(train_x[0])), dtype='float')\n",
    "#bidiGru = Bidirectional(GRU(100))(sequence_input)\n",
    "#preds = Dense(len(train_y[0]), activation='softmax')(bidiGru)\n",
    "#model = Model(sequence_input, preds)\n",
    "#model.compile(loss='categorical_crossentropy', optimizer='rmsprop', metrics=['acc'])\n",
    "\n",
    "model = Sequential([\n",
    "                    GRU(len(train_x[0]), batch_size=1, input_shape=(None, len(train_x[0])), return_sequences=True),\n",
    "                    TimeDistributed(Dense(64)),\n",
    "                    Activation('relu'),\n",
    "                    TimeDistributed(Dense(32)),\n",
    "                    Activation('relu'),\n",
    "                    TimeDistributed(Dense(len(train_y[0]))),\n",
    "                    Activation('softmax'),\n",
    "                   ])\n",
    "\n",
    "print(\"model fitting - Bidirectional GRU\")\n",
    "model.summary()\n"
   ]
  },
  {
   "cell_type": "code",
   "execution_count": 6,
   "metadata": {},
   "outputs": [],
   "source": [
    "# Compile model\n",
    "model.compile(loss='categorical_crossentropy', optimizer='adam', metrics=['accuracy'])"
   ]
  },
  {
   "cell_type": "markdown",
   "metadata": {},
   "source": [
    "# Train Model"
   ]
  },
  {
   "cell_type": "code",
   "execution_count": 7,
   "metadata": {},
   "outputs": [
    {
     "name": "stdout",
     "output_type": "stream",
     "text": [
      "(26, 100)\n",
      "(26, 8)\n",
      "(1, 26, 100)\n",
      "(1, 26, 8)\n",
      "[[[ 0.03152543 -0.07608503  0.03927452 ... -0.08470749  0.06540044\n",
      "   -0.09444779]\n",
      "  [ 0.02298637 -0.00379145 -0.03864405 ...  0.05101557 -0.10139443\n",
      "   -0.02094366]\n",
      "  [-0.01482135 -0.08236423 -0.00952277 ...  0.04878472  0.05576552\n",
      "   -0.04330803]\n",
      "  ...\n",
      "  [ 0.04357786 -0.09341566  0.05002676 ... -0.0229912   0.02283798\n",
      "   -0.01719651]\n",
      "  [ 0.01132766 -0.05173061  0.03774963 ... -0.00333958 -0.02325496\n",
      "    0.01082035]\n",
      "  [ 0.03639279 -0.07542431  0.03309561 ... -0.03817781 -0.01912619\n",
      "    0.10327344]]]\n"
     ]
    }
   ],
   "source": [
    "print(train_X.shape)\n",
    "print(train_Y.shape)\n",
    "\n",
    "X3 = np.reshape(train_X, (1,) + train_X.shape)\n",
    "Y3 = np.reshape(train_Y, (1,) + train_Y.shape)\n",
    "\n",
    "print(X3.shape)\n",
    "print(Y3.shape)\n",
    "\n",
    "print(X3)\n"
   ]
  },
  {
   "cell_type": "code",
   "execution_count": 8,
   "metadata": {},
   "outputs": [
    {
     "name": "stdout",
     "output_type": "stream",
     "text": [
      "Epoch 1/100\n",
      "1/1 [==============================] - 1s 589ms/step - loss: 2.0806 - acc: 0.1538\n",
      "Epoch 2/100\n",
      "1/1 [==============================] - 0s 19ms/step - loss: 2.0658 - acc: 0.2308\n",
      "Epoch 3/100\n",
      "1/1 [==============================] - 0s 19ms/step - loss: 2.0540 - acc: 0.4231\n",
      "Epoch 4/100\n",
      "1/1 [==============================] - 0s 17ms/step - loss: 2.0438 - acc: 0.6154\n",
      "Epoch 5/100\n",
      "1/1 [==============================] - 0s 18ms/step - loss: 2.0324 - acc: 0.6154\n",
      "Epoch 6/100\n",
      "1/1 [==============================] - 0s 18ms/step - loss: 2.0206 - acc: 0.7308\n",
      "Epoch 7/100\n",
      "1/1 [==============================] - 0s 20ms/step - loss: 2.0076 - acc: 0.7308\n",
      "Epoch 8/100\n",
      "1/1 [==============================] - 0s 17ms/step - loss: 1.9938 - acc: 0.7308\n",
      "Epoch 9/100\n",
      "1/1 [==============================] - 0s 19ms/step - loss: 1.9790 - acc: 0.6923\n",
      "Epoch 10/100\n",
      "1/1 [==============================] - 0s 16ms/step - loss: 1.9629 - acc: 0.6538\n",
      "Epoch 11/100\n",
      "1/1 [==============================] - 0s 20ms/step - loss: 1.9454 - acc: 0.6538\n",
      "Epoch 12/100\n",
      "1/1 [==============================] - 0s 18ms/step - loss: 1.9267 - acc: 0.6538\n",
      "Epoch 13/100\n",
      "1/1 [==============================] - 0s 19ms/step - loss: 1.9069 - acc: 0.6538\n",
      "Epoch 14/100\n",
      "1/1 [==============================] - 0s 20ms/step - loss: 1.8856 - acc: 0.6538\n",
      "Epoch 15/100\n",
      "1/1 [==============================] - 0s 19ms/step - loss: 1.8628 - acc: 0.6538\n",
      "Epoch 16/100\n",
      "1/1 [==============================] - 0s 19ms/step - loss: 1.8384 - acc: 0.6154\n",
      "Epoch 17/100\n",
      "1/1 [==============================] - 0s 19ms/step - loss: 1.8122 - acc: 0.6154\n",
      "Epoch 18/100\n",
      "1/1 [==============================] - 0s 18ms/step - loss: 1.7834 - acc: 0.6154\n",
      "Epoch 19/100\n",
      "1/1 [==============================] - 0s 19ms/step - loss: 1.7520 - acc: 0.6154\n",
      "Epoch 20/100\n",
      "1/1 [==============================] - 0s 19ms/step - loss: 1.7182 - acc: 0.6154\n",
      "Epoch 21/100\n",
      "1/1 [==============================] - 0s 18ms/step - loss: 1.6818 - acc: 0.6154\n",
      "Epoch 22/100\n",
      "1/1 [==============================] - 0s 18ms/step - loss: 1.6424 - acc: 0.6154\n",
      "Epoch 23/100\n",
      "1/1 [==============================] - 0s 20ms/step - loss: 1.5996 - acc: 0.6154\n",
      "Epoch 24/100\n",
      "1/1 [==============================] - 0s 19ms/step - loss: 1.5528 - acc: 0.6154\n",
      "Epoch 25/100\n",
      "1/1 [==============================] - 0s 19ms/step - loss: 1.5016 - acc: 0.6154\n",
      "Epoch 26/100\n",
      "1/1 [==============================] - 0s 18ms/step - loss: 1.4460 - acc: 0.6154\n",
      "Epoch 27/100\n",
      "1/1 [==============================] - 0s 19ms/step - loss: 1.3856 - acc: 0.6154\n",
      "Epoch 28/100\n",
      "1/1 [==============================] - 0s 19ms/step - loss: 1.3203 - acc: 0.6154\n",
      "Epoch 29/100\n",
      "1/1 [==============================] - 0s 19ms/step - loss: 1.2494 - acc: 0.6538\n",
      "Epoch 30/100\n",
      "1/1 [==============================] - 0s 19ms/step - loss: 1.1743 - acc: 0.6538\n",
      "Epoch 31/100\n",
      "1/1 [==============================] - 0s 20ms/step - loss: 1.0955 - acc: 0.6923\n",
      "Epoch 32/100\n",
      "1/1 [==============================] - 0s 20ms/step - loss: 1.0149 - acc: 0.6923\n",
      "Epoch 33/100\n",
      "1/1 [==============================] - 0s 20ms/step - loss: 0.9358 - acc: 0.6923\n",
      "Epoch 34/100\n",
      "1/1 [==============================] - 0s 19ms/step - loss: 0.8582 - acc: 0.7308\n",
      "Epoch 35/100\n",
      "1/1 [==============================] - 0s 20ms/step - loss: 0.7841 - acc: 0.7692\n",
      "Epoch 36/100\n",
      "1/1 [==============================] - 0s 20ms/step - loss: 0.7145 - acc: 0.7692\n",
      "Epoch 37/100\n",
      "1/1 [==============================] - 0s 19ms/step - loss: 0.6445 - acc: 0.7692\n",
      "Epoch 38/100\n",
      "1/1 [==============================] - 0s 20ms/step - loss: 0.5748 - acc: 0.8462\n",
      "Epoch 39/100\n",
      "1/1 [==============================] - 0s 19ms/step - loss: 0.5088 - acc: 0.8846\n",
      "Epoch 40/100\n",
      "1/1 [==============================] - 0s 21ms/step - loss: 0.4451 - acc: 0.9231\n",
      "Epoch 41/100\n",
      "1/1 [==============================] - 0s 19ms/step - loss: 0.3858 - acc: 0.9615\n",
      "Epoch 42/100\n",
      "1/1 [==============================] - 0s 20ms/step - loss: 0.3359 - acc: 0.9615\n",
      "Epoch 43/100\n",
      "1/1 [==============================] - 0s 19ms/step - loss: 0.2999 - acc: 1.0000\n",
      "Epoch 44/100\n",
      "1/1 [==============================] - 0s 19ms/step - loss: 0.3123 - acc: 0.9231\n",
      "Epoch 45/100\n",
      "1/1 [==============================] - 0s 18ms/step - loss: 0.2526 - acc: 1.0000\n",
      "Epoch 46/100\n",
      "1/1 [==============================] - 0s 19ms/step - loss: 0.2414 - acc: 0.9615\n",
      "Epoch 47/100\n",
      "1/1 [==============================] - 0s 20ms/step - loss: 0.2075 - acc: 1.0000\n",
      "Epoch 48/100\n",
      "1/1 [==============================] - 0s 19ms/step - loss: 0.2015 - acc: 1.0000\n",
      "Epoch 49/100\n",
      "1/1 [==============================] - 0s 20ms/step - loss: 0.1687 - acc: 1.0000\n",
      "Epoch 50/100\n",
      "1/1 [==============================] - 0s 20ms/step - loss: 0.1724 - acc: 1.0000\n",
      "Epoch 51/100\n",
      "1/1 [==============================] - 0s 20ms/step - loss: 0.1459 - acc: 1.0000\n",
      "Epoch 52/100\n",
      "1/1 [==============================] - 0s 19ms/step - loss: 0.1458 - acc: 1.0000\n",
      "Epoch 53/100\n",
      "1/1 [==============================] - 0s 19ms/step - loss: 0.1282 - acc: 1.0000\n",
      "Epoch 54/100\n",
      "1/1 [==============================] - 0s 19ms/step - loss: 0.1174 - acc: 1.0000\n",
      "Epoch 55/100\n",
      "1/1 [==============================] - 0s 21ms/step - loss: 0.1131 - acc: 1.0000\n",
      "Epoch 56/100\n",
      "1/1 [==============================] - 0s 19ms/step - loss: 0.0988 - acc: 1.0000\n",
      "Epoch 57/100\n",
      "1/1 [==============================] - 0s 20ms/step - loss: 0.0996 - acc: 1.0000\n",
      "Epoch 58/100\n",
      "1/1 [==============================] - 0s 20ms/step - loss: 0.0880 - acc: 1.0000\n",
      "Epoch 59/100\n",
      "1/1 [==============================] - 0s 19ms/step - loss: 0.0851 - acc: 1.0000\n",
      "Epoch 60/100\n",
      "1/1 [==============================] - 0s 19ms/step - loss: 0.0802 - acc: 1.0000\n",
      "Epoch 61/100\n",
      "1/1 [==============================] - 0s 19ms/step - loss: 0.0718 - acc: 1.0000\n",
      "Epoch 62/100\n",
      "1/1 [==============================] - 0s 20ms/step - loss: 0.0711 - acc: 1.0000\n",
      "Epoch 63/100\n",
      "1/1 [==============================] - 0s 20ms/step - loss: 0.0635 - acc: 1.0000\n",
      "Epoch 64/100\n",
      "1/1 [==============================] - 0s 20ms/step - loss: 0.0623 - acc: 1.0000\n",
      "Epoch 65/100\n",
      "1/1 [==============================] - 0s 20ms/step - loss: 0.0584 - acc: 1.0000\n",
      "Epoch 66/100\n",
      "1/1 [==============================] - 0s 18ms/step - loss: 0.0541 - acc: 1.0000\n",
      "Epoch 67/100\n",
      "1/1 [==============================] - 0s 19ms/step - loss: 0.0531 - acc: 1.0000\n",
      "Epoch 68/100\n",
      "1/1 [==============================] - 0s 20ms/step - loss: 0.0481 - acc: 1.0000\n",
      "Epoch 69/100\n",
      "1/1 [==============================] - 0s 20ms/step - loss: 0.0474 - acc: 1.0000\n",
      "Epoch 70/100\n",
      "1/1 [==============================] - 0s 20ms/step - loss: 0.0442 - acc: 1.0000\n",
      "Epoch 71/100\n",
      "1/1 [==============================] - 0s 20ms/step - loss: 0.0421 - acc: 1.0000\n",
      "Epoch 72/100\n",
      "1/1 [==============================] - 0s 19ms/step - loss: 0.0410 - acc: 1.0000\n",
      "Epoch 73/100\n",
      "1/1 [==============================] - 0s 20ms/step - loss: 0.0380 - acc: 1.0000\n",
      "Epoch 74/100\n",
      "1/1 [==============================] - 0s 20ms/step - loss: 0.0373 - acc: 1.0000\n",
      "Epoch 75/100\n",
      "1/1 [==============================] - 0s 19ms/step - loss: 0.0348 - acc: 1.0000\n",
      "Epoch 76/100\n",
      "1/1 [==============================] - 0s 20ms/step - loss: 0.0335 - acc: 1.0000\n",
      "Epoch 77/100\n",
      "1/1 [==============================] - 0s 20ms/step - loss: 0.0322 - acc: 1.0000\n",
      "Epoch 78/100\n",
      "1/1 [==============================] - 0s 20ms/step - loss: 0.0304 - acc: 1.0000\n",
      "Epoch 79/100\n",
      "1/1 [==============================] - 0s 19ms/step - loss: 0.0298 - acc: 1.0000\n",
      "Epoch 80/100\n",
      "1/1 [==============================] - 0s 19ms/step - loss: 0.0282 - acc: 1.0000\n",
      "Epoch 81/100\n",
      "1/1 [==============================] - 0s 20ms/step - loss: 0.0273 - acc: 1.0000\n",
      "Epoch 82/100\n",
      "1/1 [==============================] - 0s 19ms/step - loss: 0.0263 - acc: 1.0000\n",
      "Epoch 83/100\n",
      "1/1 [==============================] - 0s 19ms/step - loss: 0.0250 - acc: 1.0000\n",
      "Epoch 84/100\n",
      "1/1 [==============================] - 0s 19ms/step - loss: 0.0243 - acc: 1.0000\n",
      "Epoch 85/100\n",
      "1/1 [==============================] - 0s 19ms/step - loss: 0.0232 - acc: 1.0000\n",
      "Epoch 86/100\n",
      "1/1 [==============================] - 0s 20ms/step - loss: 0.0225 - acc: 1.0000\n",
      "Epoch 87/100\n",
      "1/1 [==============================] - 0s 20ms/step - loss: 0.0218 - acc: 1.0000\n",
      "Epoch 88/100\n",
      "1/1 [==============================] - 0s 21ms/step - loss: 0.0209 - acc: 1.0000\n"
     ]
    },
    {
     "name": "stdout",
     "output_type": "stream",
     "text": [
      "Epoch 89/100\n",
      "1/1 [==============================] - 0s 19ms/step - loss: 0.0204 - acc: 1.0000\n",
      "Epoch 90/100\n",
      "1/1 [==============================] - 0s 20ms/step - loss: 0.0196 - acc: 1.0000\n",
      "Epoch 91/100\n",
      "1/1 [==============================] - 0s 19ms/step - loss: 0.0190 - acc: 1.0000\n",
      "Epoch 92/100\n",
      "1/1 [==============================] - 0s 19ms/step - loss: 0.0185 - acc: 1.0000\n",
      "Epoch 93/100\n",
      "1/1 [==============================] - 0s 20ms/step - loss: 0.0178 - acc: 1.0000\n",
      "Epoch 94/100\n",
      "1/1 [==============================] - 0s 20ms/step - loss: 0.0174 - acc: 1.0000\n",
      "Epoch 95/100\n",
      "1/1 [==============================] - 0s 18ms/step - loss: 0.0168 - acc: 1.0000\n",
      "Epoch 96/100\n",
      "1/1 [==============================] - 0s 19ms/step - loss: 0.0163 - acc: 1.0000\n",
      "Epoch 97/100\n",
      "1/1 [==============================] - 0s 18ms/step - loss: 0.0159 - acc: 1.0000\n",
      "Epoch 98/100\n",
      "1/1 [==============================] - 0s 17ms/step - loss: 0.0154 - acc: 1.0000\n",
      "Epoch 99/100\n",
      "1/1 [==============================] - 0s 17ms/step - loss: 0.0150 - acc: 1.0000\n",
      "Epoch 100/100\n",
      "1/1 [==============================] - 0s 19ms/step - loss: 0.0146 - acc: 1.0000\n"
     ]
    },
    {
     "data": {
      "text/plain": [
       "<keras.callbacks.History at 0x12648e050>"
      ]
     },
     "execution_count": 8,
     "metadata": {},
     "output_type": "execute_result"
    }
   ],
   "source": [
    "model.fit(X3, Y3, epochs=100)"
   ]
  },
  {
   "cell_type": "markdown",
   "metadata": {},
   "source": [
    "# Export Model using CoreML Tools"
   ]
  },
  {
   "cell_type": "code",
   "execution_count": 9,
   "metadata": {},
   "outputs": [],
   "source": [
    "model.save('SwiftNLCFastText.h5')"
   ]
  },
  {
   "cell_type": "code",
   "execution_count": 10,
   "metadata": {},
   "outputs": [
    {
     "name": "stderr",
     "output_type": "stream",
     "text": [
      "WARNING:root:Keras version 2.1.5 detected. Last version known to be fully compatible of Keras is 2.1.3 .\n",
      "WARNING:root:TensorFlow version 1.6.0 detected. Last version known to be fully compatible is 1.5.0 .\n"
     ]
    },
    {
     "name": "stdout",
     "output_type": "stream",
     "text": [
      "0 : gru_1_input, <keras.engine.topology.InputLayer object at 0x126600c90>\n",
      "1 : gru_1, <keras.layers.recurrent.GRU object at 0x126600550>\n",
      "2 : time_distributed_1, <keras.layers.wrappers.TimeDistributed object at 0x126600890>\n",
      "3 : activation_1, <keras.layers.core.Activation object at 0x1266008d0>\n",
      "4 : time_distributed_2, <keras.layers.wrappers.TimeDistributed object at 0x126600a10>\n",
      "5 : activation_2, <keras.layers.core.Activation object at 0x126600a50>\n",
      "6 : time_distributed_3, <keras.layers.wrappers.TimeDistributed object at 0x126600b90>\n",
      "7 : activation_3, <keras.layers.core.Activation object at 0x126600bd0>\n"
     ]
    },
    {
     "data": {
      "text/plain": [
       "input {\n",
       "  name: \"vectors\"\n",
       "  type {\n",
       "    multiArrayType {\n",
       "      shape: 100\n",
       "      dataType: DOUBLE\n",
       "    }\n",
       "  }\n",
       "}\n",
       "input {\n",
       "  name: \"gru_1_h_in\"\n",
       "  type {\n",
       "    multiArrayType {\n",
       "      shape: 100\n",
       "      dataType: DOUBLE\n",
       "    }\n",
       "    isOptional: true\n",
       "  }\n",
       "}\n",
       "output {\n",
       "  name: \"entities\"\n",
       "  type {\n",
       "    multiArrayType {\n",
       "      shape: 8\n",
       "      dataType: DOUBLE\n",
       "    }\n",
       "  }\n",
       "}\n",
       "output {\n",
       "  name: \"gru_1_h_out\"\n",
       "  type {\n",
       "    multiArrayType {\n",
       "      shape: 100\n",
       "      dataType: DOUBLE\n",
       "    }\n",
       "  }\n",
       "}"
      ]
     },
     "execution_count": 10,
     "metadata": {},
     "output_type": "execute_result"
    }
   ],
   "source": [
    "import coremltools\n",
    "coreml_model = coremltools.converters.keras.convert(model, input_names=\"vectors\", output_names=\"entities\")\n",
    "coreml_model"
   ]
  },
  {
   "cell_type": "code",
   "execution_count": 11,
   "metadata": {},
   "outputs": [],
   "source": [
    "coreml_model.save('SwiftNLCFastText.mlmodel')"
   ]
  },
  {
   "cell_type": "code",
   "execution_count": null,
   "metadata": {},
   "outputs": [],
   "source": []
  }
 ],
 "metadata": {
  "kernelspec": {
   "display_name": "Python 2",
   "language": "python",
   "name": "python2"
  },
  "language_info": {
   "codemirror_mode": {
    "name": "ipython",
    "version": 2
   },
   "file_extension": ".py",
   "mimetype": "text/x-python",
   "name": "python",
   "nbconvert_exporter": "python",
   "pygments_lexer": "ipython2",
   "version": "2.7.14"
  }
 },
 "nbformat": 4,
 "nbformat_minor": 2
}
