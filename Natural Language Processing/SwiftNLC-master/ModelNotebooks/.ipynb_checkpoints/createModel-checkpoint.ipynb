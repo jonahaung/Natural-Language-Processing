{
 "cells": [
  {
   "cell_type": "code",
   "execution_count": 63,
   "metadata": {},
   "outputs": [],
   "source": [
    "import numpy as np\n",
    "import tensorflow as tf\n",
    "import random"
   ]
  },
  {
   "cell_type": "markdown",
   "metadata": {},
   "source": [
    "# NLTK one_hot encoding test"
   ]
  },
  {
   "cell_type": "code",
   "execution_count": 64,
   "metadata": {},
   "outputs": [],
   "source": [
    "import nltk\n",
    "from nltk.stem.lancaster import LancasterStemmer\n",
    "stemmer = LancasterStemmer()\n",
    "\n",
    "\n",
    "# import intents file\n",
    "import json\n",
    "with open('dataset.json') as json_data:\n",
    "    intents = json.load(json_data)"
   ]
  },
  {
   "cell_type": "code",
   "execution_count": 51,
   "metadata": {},
   "outputs": [
    {
     "name": "stdout",
     "output_type": "stream",
     "text": [
      "(25, 'classes', [u'about_VA', u'capabilities', u'compound_questions', u'decision_replies', u'goodbyes', u'greetings', u'improving_system', u'information_request', u'interface_interactions', u'interface_issues', u'locate_amenity', u'navigation', u'negative_reaction', u'not_specified', u'out_of_scope', u'phone', u'positive_reaction', u'selections', u'system_reliance', u'traffic_update', u'turn_down', u'turn_off', u'turn_on', u'turn_up', u'weather'])\n",
      "(1320, 'unique stemmed words')\n",
      "(2520, 'documents')\n",
      "([u'hey', u',', u'now', u'it', u\"'s\", u'raining', u',', u'you', u'said', u'you', u'did', u\"n't\", u'know', u'anything', u'about', u'that', u'.', u'Are', u'you', u'a', u'liar', u'?'], u'system_reliance')\n",
      "([u'do', u'you', u'tell', u'the', u'truth'], u'system_reliance')\n"
     ]
    }
   ],
   "source": [
    "words = []\n",
    "classes = []\n",
    "documents = []\n",
    "ignore_words = ['?']\n",
    "# loop through each sentence in our intents utterances\n",
    "for intent in intents['intents']:\n",
    "    for pattern in intent['utterances']:\n",
    "        # tokenize each word in the sentence\n",
    "        w = nltk.word_tokenize(pattern)\n",
    "        # add to our words list\n",
    "        words.extend(w)\n",
    "        # add to documents in our corpus\n",
    "        documents.append((w, intent['intent']))\n",
    "        # add to our classes list\n",
    "        if intent['intent'] not in classes:\n",
    "            classes.append(intent['intent'])\n",
    "\n",
    "# stem and lower each word and remove duplicates\n",
    "words = [stemmer.stem(w.lower()) for w in words if w not in ignore_words]\n",
    "words = sorted(list(set(words)))\n",
    "\n",
    "# remove duplicates\n",
    "classes = sorted(list(set(classes)))\n",
    "\n",
    "print (len(classes), \"classes\", classes)\n",
    "print (len(words), \"unique stemmed words\")\n",
    "print (len(documents), \"documents\")\n",
    "print (documents[0])\n",
    "print (documents[1])\n",
    "\n",
    "\n"
   ]
  },
  {
   "cell_type": "code",
   "execution_count": 52,
   "metadata": {},
   "outputs": [
    {
     "name": "stdout",
     "output_type": "stream",
     "text": [
      "(1320, 'bags')\n",
      "(2520, 'trainings')\n"
     ]
    }
   ],
   "source": [
    "# create our training data\n",
    "training = []\n",
    "# create an empty array for our output\n",
    "output_empty = [0] * len(classes)\n",
    "\n",
    "# training set, bag of words for each sentence\n",
    "for doc in documents:\n",
    "    # initialize our bag of words\n",
    "    bag = []\n",
    "    # list of tokenized words for the pattern\n",
    "    pattern_words = doc[0]\n",
    "    # stem each word\n",
    "    pattern_words = [stemmer.stem(word.lower()) for word in pattern_words]\n",
    "    # create our bag of words array\n",
    "    for w in words:\n",
    "        bag.append(1) if w in pattern_words else bag.append(0)\n",
    "\n",
    "    # output is a '0' for each intent and '1' for current intent\n",
    "    output_row = list(output_empty)\n",
    "    output_row[classes.index(doc[1])] = 1\n",
    "\n",
    "    training.append([bag, output_row])\n",
    "\n",
    "print (len(bag), \"bags\")    \n",
    "print (len(training), \"trainings\")    \n",
    "\n",
    "    \n",
    "# shuffle our features and turn into np.array\n",
    "random.shuffle(training)\n",
    "training = np.array(training)\n",
    "\n",
    "# create train and test lists\n",
    "train_x = list(training[:,0])\n",
    "train_y = list(training[:,1])"
   ]
  },
  {
   "cell_type": "markdown",
   "metadata": {},
   "source": [
    "# Prepare Keras / TensorFlow model"
   ]
  },
  {
   "cell_type": "code",
   "execution_count": 53,
   "metadata": {},
   "outputs": [],
   "source": [
    "from keras.models import Sequential\n",
    "from keras.layers import Dense\n",
    "from keras.optimizers import Adam\n"
   ]
  },
  {
   "cell_type": "code",
   "execution_count": 54,
   "metadata": {},
   "outputs": [
    {
     "name": "stdout",
     "output_type": "stream",
     "text": [
      "_________________________________________________________________\n",
      "Layer (type)                 Output Shape              Param #   \n",
      "=================================================================\n",
      "dense_4 (Dense)              (None, 8)                 10568     \n",
      "_________________________________________________________________\n",
      "dense_5 (Dense)              (None, 8)                 72        \n",
      "_________________________________________________________________\n",
      "dense_6 (Dense)              (None, 25)                225       \n",
      "=================================================================\n",
      "Total params: 10,865\n",
      "Trainable params: 10,865\n",
      "Non-trainable params: 0\n",
      "_________________________________________________________________\n"
     ]
    }
   ],
   "source": [
    "model = Sequential()\n",
    "model.add(Dense(8, input_dim=len(train_x[0]), activation='relu'))\n",
    "model.add(Dense(8, activation='relu'))\n",
    "model.add(Dense(len(train_y[0]), activation='softmax'))\n",
    "model.summary()\n"
   ]
  },
  {
   "cell_type": "code",
   "execution_count": 55,
   "metadata": {},
   "outputs": [],
   "source": [
    "# Compile model\n",
    "model.compile(loss='categorical_crossentropy', optimizer='adam', metrics=['accuracy'])\n"
   ]
  },
  {
   "cell_type": "markdown",
   "metadata": {},
   "source": [
    "# Train Model"
   ]
  },
  {
   "cell_type": "code",
   "execution_count": 56,
   "metadata": {},
   "outputs": [
    {
     "name": "stdout",
     "output_type": "stream",
     "text": [
      "Epoch 1/100\n",
      "2520/2520 [==============================] - 0s 114us/step - loss: 3.0140 - acc: 0.0782\n",
      "Epoch 2/100\n",
      "2520/2520 [==============================] - 0s 47us/step - loss: 2.4109 - acc: 0.3214\n",
      "Epoch 3/100\n",
      "2520/2520 [==============================] - 0s 49us/step - loss: 2.0412 - acc: 0.4861\n",
      "Epoch 4/100\n",
      "2520/2520 [==============================] - 0s 48us/step - loss: 1.8174 - acc: 0.5508\n",
      "Epoch 5/100\n",
      "2520/2520 [==============================] - 0s 47us/step - loss: 1.5655 - acc: 0.5845\n",
      "Epoch 6/100\n",
      "2520/2520 [==============================] - 0s 45us/step - loss: 1.3468 - acc: 0.6369\n",
      "Epoch 7/100\n",
      "2520/2520 [==============================] - 0s 49us/step - loss: 1.1944 - acc: 0.6802\n",
      "Epoch 8/100\n",
      "2520/2520 [==============================] - 0s 47us/step - loss: 1.0869 - acc: 0.7218\n",
      "Epoch 9/100\n",
      "2520/2520 [==============================] - 0s 48us/step - loss: 1.0055 - acc: 0.7369\n",
      "Epoch 10/100\n",
      "2520/2520 [==============================] - 0s 47us/step - loss: 0.9360 - acc: 0.7492\n",
      "Epoch 11/100\n",
      "2520/2520 [==============================] - 0s 49us/step - loss: 0.8752 - acc: 0.7635\n",
      "Epoch 12/100\n",
      "2520/2520 [==============================] - 0s 47us/step - loss: 0.8199 - acc: 0.7893\n",
      "Epoch 13/100\n",
      "2520/2520 [==============================] - 0s 44us/step - loss: 0.7663 - acc: 0.8171\n",
      "Epoch 14/100\n",
      "2520/2520 [==============================] - 0s 46us/step - loss: 0.7187 - acc: 0.8310\n",
      "Epoch 15/100\n",
      "2520/2520 [==============================] - 0s 48us/step - loss: 0.6741 - acc: 0.8544\n",
      "Epoch 16/100\n",
      "2520/2520 [==============================] - 0s 46us/step - loss: 0.6333 - acc: 0.8635\n",
      "Epoch 17/100\n",
      "2520/2520 [==============================] - 0s 47us/step - loss: 0.5973 - acc: 0.8738\n",
      "Epoch 18/100\n",
      "2520/2520 [==============================] - 0s 45us/step - loss: 0.5642 - acc: 0.8817\n",
      "Epoch 19/100\n",
      "2520/2520 [==============================] - 0s 49us/step - loss: 0.5332 - acc: 0.8893\n",
      "Epoch 20/100\n",
      "2520/2520 [==============================] - 0s 45us/step - loss: 0.5039 - acc: 0.8925\n",
      "Epoch 21/100\n",
      "2520/2520 [==============================] - 0s 45us/step - loss: 0.4773 - acc: 0.9004\n",
      "Epoch 22/100\n",
      "2520/2520 [==============================] - 0s 44us/step - loss: 0.4536 - acc: 0.9048\n",
      "Epoch 23/100\n",
      "2520/2520 [==============================] - 0s 47us/step - loss: 0.4312 - acc: 0.9099\n",
      "Epoch 24/100\n",
      "2520/2520 [==============================] - 0s 49us/step - loss: 0.4094 - acc: 0.9143\n",
      "Epoch 25/100\n",
      "2520/2520 [==============================] - 0s 46us/step - loss: 0.3901 - acc: 0.9175\n",
      "Epoch 26/100\n",
      "2520/2520 [==============================] - 0s 44us/step - loss: 0.3713 - acc: 0.9190\n",
      "Epoch 27/100\n",
      "2520/2520 [==============================] - 0s 49us/step - loss: 0.3540 - acc: 0.9246\n",
      "Epoch 28/100\n",
      "2520/2520 [==============================] - 0s 47us/step - loss: 0.3378 - acc: 0.9266\n",
      "Epoch 29/100\n",
      "2520/2520 [==============================] - 0s 45us/step - loss: 0.3231 - acc: 0.9282\n",
      "Epoch 30/100\n",
      "2520/2520 [==============================] - 0s 47us/step - loss: 0.3078 - acc: 0.9313\n",
      "Epoch 31/100\n",
      "2520/2520 [==============================] - 0s 47us/step - loss: 0.2951 - acc: 0.9361\n",
      "Epoch 32/100\n",
      "2520/2520 [==============================] - 0s 45us/step - loss: 0.2813 - acc: 0.9393\n",
      "Epoch 33/100\n",
      "2520/2520 [==============================] - 0s 46us/step - loss: 0.2692 - acc: 0.9417\n",
      "Epoch 34/100\n",
      "2520/2520 [==============================] - 0s 48us/step - loss: 0.2570 - acc: 0.9433\n",
      "Epoch 35/100\n",
      "2520/2520 [==============================] - 0s 46us/step - loss: 0.2464 - acc: 0.9437\n",
      "Epoch 36/100\n",
      "2520/2520 [==============================] - 0s 48us/step - loss: 0.2358 - acc: 0.9484\n",
      "Epoch 37/100\n",
      "2520/2520 [==============================] - 0s 47us/step - loss: 0.2258 - acc: 0.9484\n",
      "Epoch 38/100\n",
      "2520/2520 [==============================] - 0s 47us/step - loss: 0.2169 - acc: 0.9504\n",
      "Epoch 39/100\n",
      "2520/2520 [==============================] - 0s 48us/step - loss: 0.2082 - acc: 0.9532\n",
      "Epoch 40/100\n",
      "2520/2520 [==============================] - 0s 48us/step - loss: 0.1993 - acc: 0.9552\n",
      "Epoch 41/100\n",
      "2520/2520 [==============================] - 0s 51us/step - loss: 0.1907 - acc: 0.9579\n",
      "Epoch 42/100\n",
      "2520/2520 [==============================] - 0s 47us/step - loss: 0.1839 - acc: 0.9595\n",
      "Epoch 43/100\n",
      "2520/2520 [==============================] - 0s 46us/step - loss: 0.1770 - acc: 0.9619\n",
      "Epoch 44/100\n",
      "2520/2520 [==============================] - 0s 47us/step - loss: 0.1695 - acc: 0.9619\n",
      "Epoch 45/100\n",
      "2520/2520 [==============================] - 0s 50us/step - loss: 0.1631 - acc: 0.9643\n",
      "Epoch 46/100\n",
      "2520/2520 [==============================] - 0s 49us/step - loss: 0.1568 - acc: 0.9651\n",
      "Epoch 47/100\n",
      "2520/2520 [==============================] - 0s 46us/step - loss: 0.1511 - acc: 0.9667\n",
      "Epoch 48/100\n",
      "2520/2520 [==============================] - 0s 47us/step - loss: 0.1454 - acc: 0.9671\n",
      "Epoch 49/100\n",
      "2520/2520 [==============================] - 0s 46us/step - loss: 0.1401 - acc: 0.9690\n",
      "Epoch 50/100\n",
      "2520/2520 [==============================] - 0s 48us/step - loss: 0.1350 - acc: 0.9706\n",
      "Epoch 51/100\n",
      "2520/2520 [==============================] - 0s 48us/step - loss: 0.1302 - acc: 0.9702\n",
      "Epoch 52/100\n",
      "2520/2520 [==============================] - 0s 47us/step - loss: 0.1252 - acc: 0.9710\n",
      "Epoch 53/100\n",
      "2520/2520 [==============================] - 0s 46us/step - loss: 0.1216 - acc: 0.9750\n",
      "Epoch 54/100\n",
      "2520/2520 [==============================] - 0s 46us/step - loss: 0.1165 - acc: 0.9750\n",
      "Epoch 55/100\n",
      "2520/2520 [==============================] - 0s 46us/step - loss: 0.1122 - acc: 0.9754\n",
      "Epoch 56/100\n",
      "2520/2520 [==============================] - 0s 48us/step - loss: 0.1081 - acc: 0.9762\n",
      "Epoch 57/100\n",
      "2520/2520 [==============================] - 0s 48us/step - loss: 0.1039 - acc: 0.9762\n",
      "Epoch 58/100\n",
      "2520/2520 [==============================] - 0s 48us/step - loss: 0.1007 - acc: 0.9774\n",
      "Epoch 59/100\n",
      "2520/2520 [==============================] - 0s 46us/step - loss: 0.0971 - acc: 0.9778\n",
      "Epoch 60/100\n",
      "2520/2520 [==============================] - 0s 46us/step - loss: 0.0937 - acc: 0.9786\n",
      "Epoch 61/100\n",
      "2520/2520 [==============================] - 0s 46us/step - loss: 0.0905 - acc: 0.9794\n",
      "Epoch 62/100\n",
      "2520/2520 [==============================] - 0s 47us/step - loss: 0.0882 - acc: 0.9786\n",
      "Epoch 63/100\n",
      "2520/2520 [==============================] - 0s 46us/step - loss: 0.0845 - acc: 0.9790\n",
      "Epoch 64/100\n",
      "2520/2520 [==============================] - 0s 49us/step - loss: 0.0815 - acc: 0.9794\n",
      "Epoch 65/100\n",
      "2520/2520 [==============================] - 0s 47us/step - loss: 0.0786 - acc: 0.9813\n",
      "Epoch 66/100\n",
      "2520/2520 [==============================] - 0s 47us/step - loss: 0.0764 - acc: 0.9829\n",
      "Epoch 67/100\n",
      "2520/2520 [==============================] - 0s 48us/step - loss: 0.0738 - acc: 0.9829\n",
      "Epoch 68/100\n",
      "2520/2520 [==============================] - 0s 56us/step - loss: 0.0714 - acc: 0.9853\n",
      "Epoch 69/100\n",
      "2520/2520 [==============================] - 0s 50us/step - loss: 0.0692 - acc: 0.9841\n",
      "Epoch 70/100\n",
      "2520/2520 [==============================] - 0s 48us/step - loss: 0.0675 - acc: 0.9861\n",
      "Epoch 71/100\n",
      "2520/2520 [==============================] - 0s 47us/step - loss: 0.0652 - acc: 0.9857\n",
      "Epoch 72/100\n",
      "2520/2520 [==============================] - 0s 55us/step - loss: 0.0631 - acc: 0.9857\n",
      "Epoch 73/100\n",
      "2520/2520 [==============================] - 0s 51us/step - loss: 0.0612 - acc: 0.9861\n",
      "Epoch 74/100\n",
      "2520/2520 [==============================] - 0s 48us/step - loss: 0.0596 - acc: 0.9865\n",
      "Epoch 75/100\n",
      "2520/2520 [==============================] - 0s 49us/step - loss: 0.0578 - acc: 0.9881\n",
      "Epoch 76/100\n",
      "2520/2520 [==============================] - 0s 50us/step - loss: 0.0570 - acc: 0.9865\n",
      "Epoch 77/100\n",
      "2520/2520 [==============================] - 0s 50us/step - loss: 0.0544 - acc: 0.9869\n",
      "Epoch 78/100\n",
      "2520/2520 [==============================] - 0s 49us/step - loss: 0.0531 - acc: 0.9877\n",
      "Epoch 79/100\n",
      "2520/2520 [==============================] - 0s 52us/step - loss: 0.0515 - acc: 0.9893\n",
      "Epoch 80/100\n",
      "2520/2520 [==============================] - 0s 54us/step - loss: 0.0505 - acc: 0.9893\n",
      "Epoch 81/100\n",
      "2520/2520 [==============================] - 0s 49us/step - loss: 0.0486 - acc: 0.9893\n",
      "Epoch 82/100\n",
      "2520/2520 [==============================] - 0s 46us/step - loss: 0.0471 - acc: 0.9889\n",
      "Epoch 83/100\n"
     ]
    },
    {
     "name": "stdout",
     "output_type": "stream",
     "text": [
      "2520/2520 [==============================] - 0s 47us/step - loss: 0.0459 - acc: 0.9909\n",
      "Epoch 84/100\n",
      "2520/2520 [==============================] - 0s 47us/step - loss: 0.0445 - acc: 0.9901\n",
      "Epoch 85/100\n",
      "2520/2520 [==============================] - 0s 49us/step - loss: 0.0442 - acc: 0.9901\n",
      "Epoch 86/100\n",
      "2520/2520 [==============================] - 0s 48us/step - loss: 0.0421 - acc: 0.9913\n",
      "Epoch 87/100\n",
      "2520/2520 [==============================] - 0s 46us/step - loss: 0.0412 - acc: 0.9913\n",
      "Epoch 88/100\n",
      "2520/2520 [==============================] - 0s 47us/step - loss: 0.0402 - acc: 0.9921\n",
      "Epoch 89/100\n",
      "2520/2520 [==============================] - 0s 48us/step - loss: 0.0390 - acc: 0.9917\n",
      "Epoch 90/100\n",
      "2520/2520 [==============================] - 0s 49us/step - loss: 0.0384 - acc: 0.9925\n",
      "Epoch 91/100\n",
      "2520/2520 [==============================] - 0s 47us/step - loss: 0.0370 - acc: 0.9929\n",
      "Epoch 92/100\n",
      "2520/2520 [==============================] - 0s 48us/step - loss: 0.0360 - acc: 0.9921\n",
      "Epoch 93/100\n",
      "2520/2520 [==============================] - 0s 45us/step - loss: 0.0352 - acc: 0.9929\n",
      "Epoch 94/100\n",
      "2520/2520 [==============================] - 0s 45us/step - loss: 0.0344 - acc: 0.9925\n",
      "Epoch 95/100\n",
      "2520/2520 [==============================] - 0s 49us/step - loss: 0.0337 - acc: 0.9917\n",
      "Epoch 96/100\n",
      "2520/2520 [==============================] - 0s 48us/step - loss: 0.0330 - acc: 0.9925\n",
      "Epoch 97/100\n",
      "2520/2520 [==============================] - 0s 46us/step - loss: 0.0316 - acc: 0.9921\n",
      "Epoch 98/100\n",
      "2520/2520 [==============================] - 0s 47us/step - loss: 0.0313 - acc: 0.9925\n",
      "Epoch 99/100\n",
      "2520/2520 [==============================] - 0s 46us/step - loss: 0.0306 - acc: 0.9929\n",
      "Epoch 100/100\n",
      "2520/2520 [==============================] - 0s 49us/step - loss: 0.0299 - acc: 0.9929\n"
     ]
    },
    {
     "data": {
      "text/plain": [
       "<keras.callbacks.History at 0x1278fd510>"
      ]
     },
     "execution_count": 56,
     "metadata": {},
     "output_type": "execute_result"
    }
   ],
   "source": [
    "model.fit(np.array(train_x), np.array(train_y), epochs=100)"
   ]
  },
  {
   "cell_type": "markdown",
   "metadata": {},
   "source": [
    "# Test Model"
   ]
  },
  {
   "cell_type": "code",
   "execution_count": 57,
   "metadata": {},
   "outputs": [],
   "source": [
    "def clean_up_sentence(sentence):\n",
    "    # tokenize the pattern\n",
    "    sentence_words = nltk.word_tokenize(sentence)\n",
    "    # stem each word\n",
    "    sentence_words = [stemmer.stem(word.lower()) for word in sentence_words]\n",
    "    return sentence_words\n",
    "\n",
    "# return bag of words array: 0 or 1 for each word in the bag that exists in the sentence\n",
    "def bow(sentence, words, show_details=False):\n",
    "    # tokenize the pattern\n",
    "    sentence_words = clean_up_sentence(sentence)\n",
    "    # bag of words\n",
    "    bag = [0]*len(words)  \n",
    "    for s in sentence_words:\n",
    "        for i,w in enumerate(words):\n",
    "            if w == s: \n",
    "                bag[i] = 1\n",
    "                if show_details:\n",
    "                    print (\"found in bag: %s\" % w)\n",
    "\n",
    "    return(np.array(bag))"
   ]
  },
  {
   "cell_type": "code",
   "execution_count": 58,
   "metadata": {},
   "outputs": [
    {
     "name": "stdout",
     "output_type": "stream",
     "text": [
      "[0 0 0 ... 0 0 0]\n",
      "[u'about_VA', u'capabilities', u'compound_questions', u'decision_replies', u'goodbyes', u'greetings', u'improving_system', u'information_request', u'interface_interactions', u'interface_issues', u'locate_amenity', u'navigation', u'negative_reaction', u'not_specified', u'out_of_scope', u'phone', u'positive_reaction', u'selections', u'system_reliance', u'traffic_update', u'turn_down', u'turn_off', u'turn_on', u'turn_up', u'weather']\n"
     ]
    }
   ],
   "source": [
    "p = bow(\"Turn on the radio\", words)\n",
    "print (p)\n",
    "print (classes)"
   ]
  },
  {
   "cell_type": "code",
   "execution_count": 59,
   "metadata": {},
   "outputs": [],
   "source": [
    "y_pred = model.predict(np.array([p]))"
   ]
  },
  {
   "cell_type": "code",
   "execution_count": 60,
   "metadata": {},
   "outputs": [
    {
     "name": "stdout",
     "output_type": "stream",
     "text": [
      "[[7.5455051e-26 4.6361151e-10 2.4519872e-04 6.4304201e-11 8.1930615e-05\n",
      "  2.1279399e-13 7.7437688e-18 4.7291953e-14 5.7925716e-11 1.6730375e-05\n",
      "  1.3792224e-05 5.9013184e-13 6.9718530e-11 5.2293857e-13 3.8408107e-08\n",
      "  3.3146169e-13 1.2176230e-12 9.6799624e-10 1.5009475e-16 2.6067844e-24\n",
      "  4.6020046e-09 3.6008959e-08 9.9962592e-01 1.6307209e-05 1.7988539e-16]]\n"
     ]
    }
   ],
   "source": [
    "print(y_pred)"
   ]
  },
  {
   "cell_type": "code",
   "execution_count": 61,
   "metadata": {},
   "outputs": [
    {
     "name": "stdout",
     "output_type": "stream",
     "text": [
      "0.9996259\n"
     ]
    }
   ],
   "source": [
    "print(y_pred[0][22])"
   ]
  },
  {
   "cell_type": "code",
   "execution_count": 62,
   "metadata": {},
   "outputs": [
    {
     "name": "stdout",
     "output_type": "stream",
     "text": [
      "turn_on\n"
     ]
    }
   ],
   "source": [
    "print(classes[22])"
   ]
  },
  {
   "cell_type": "markdown",
   "metadata": {},
   "source": [
    "# Export Model using CoreML Tools"
   ]
  },
  {
   "cell_type": "code",
   "execution_count": null,
   "metadata": {},
   "outputs": [],
   "source": [
    "model.save('Car.h5')"
   ]
  },
  {
   "cell_type": "code",
   "execution_count": null,
   "metadata": {},
   "outputs": [],
   "source": [
    "import coremltools\n",
    "coreml_model = coremltools.converters.keras.convert(model, input_names=\"utterances\", output_names=\"entities\")\n",
    "coreml_model"
   ]
  },
  {
   "cell_type": "code",
   "execution_count": null,
   "metadata": {},
   "outputs": [],
   "source": [
    "coreml_model.save('Car.mlmodel')"
   ]
  }
 ],
 "metadata": {
  "kernelspec": {
   "display_name": "Python 2",
   "language": "python",
   "name": "python2"
  },
  "language_info": {
   "codemirror_mode": {
    "name": "ipython",
    "version": 2
   },
   "file_extension": ".py",
   "mimetype": "text/x-python",
   "name": "python",
   "nbconvert_exporter": "python",
   "pygments_lexer": "ipython2",
   "version": "2.7.14"
  }
 },
 "nbformat": 4,
 "nbformat_minor": 2
}
