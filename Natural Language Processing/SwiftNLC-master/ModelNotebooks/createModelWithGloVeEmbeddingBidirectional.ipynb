{
 "cells": [
  {
   "cell_type": "markdown",
   "metadata": {},
   "source": [
    "# Imports"
   ]
  },
  {
   "cell_type": "code",
   "execution_count": 1,
   "metadata": {},
   "outputs": [
    {
     "name": "stderr",
     "output_type": "stream",
     "text": [
      "/Users/jmangia/anaconda2/envs/SwiftNLC/lib/python2.7/site-packages/h5py/__init__.py:34: FutureWarning: Conversion of the second argument of issubdtype from `float` to `np.floating` is deprecated. In future, it will be treated as `np.float64 == np.dtype(float).type`.\n",
      "  from ._conv import register_converters as _register_converters\n",
      "Using TensorFlow backend.\n"
     ]
    }
   ],
   "source": [
    "import numpy as np\n",
    "from nltk.tokenize import RegexpTokenizer\n",
    "from keras.preprocessing.text import Tokenizer\n",
    "from keras.preprocessing.sequence import pad_sequences\n",
    "from keras.models import Sequential, Model\n",
    "from keras.layers import Dense, Input, Bidirectional, LSTM, GRU, TimeDistributed, Activation, Flatten, Embedding, GlobalMaxPool1D, Dropout\n",
    "from keras.optimizers import Adam\n",
    "\n"
   ]
  },
  {
   "cell_type": "markdown",
   "metadata": {},
   "source": [
    "# Functions"
   ]
  },
  {
   "cell_type": "code",
   "execution_count": 2,
   "metadata": {},
   "outputs": [],
   "source": [
    "# Prepare Glove File\n",
    "def readGloveFile(gloveFile):\n",
    "    with open(gloveFile, 'r') as f:\n",
    "        wordToGlove = {}  # map from a token (word) to a Glove embedding vector\n",
    "        wordToIndex = {}  # map from a token to an index\n",
    "        indexToWord = {}  # map from an index to a token \n",
    "\n",
    "        for line in f:\n",
    "            record = line.strip().split()\n",
    "            token = record[0] # take the token (word) from the text line\n",
    "            wordToGlove[token] = np.array(record[1:], dtype=np.float64) # associate the Glove embedding vector to a that token (word)\n",
    "\n",
    "        tokens = sorted(wordToGlove.keys())\n",
    "        for idx, tok in enumerate(tokens):\n",
    "            kerasIdx = idx + 1  # 0 is reserved for masking in Keras (see above)\n",
    "            wordToIndex[tok] = kerasIdx # associate an index to a token (word)\n",
    "            indexToWord[kerasIdx] = tok # associate a word to a token (word). Note: inverse of dictionary above\n",
    "\n",
    "    return wordToIndex, indexToWord, wordToGlove"
   ]
  },
  {
   "cell_type": "code",
   "execution_count": 3,
   "metadata": {},
   "outputs": [],
   "source": [
    "# Create Pretrained Keras Embedding Weights Matrix\n",
    "def createPretrainedEmbeddingMatrix(wordToGlove, wordToIndex):\n",
    "    vocabLen = len(wordToIndex) + 1  # adding 1 to account for masking\n",
    "    embDim = next(iter(wordToGlove.values())).shape[0]  # works with any glove dimensions (e.g. 50)\n",
    "\n",
    "    embeddingMatrix = np.zeros((vocabLen, embDim))  # initialize with zeros\n",
    "    for word, index in wordToIndex.items():\n",
    "        embeddingMatrix[index, :] = wordToGlove[word] # create embedding: word index to Glove word embedding\n",
    "\n",
    "    return vocabLen, embDim, embeddingMatrix"
   ]
  },
  {
   "cell_type": "code",
   "execution_count": 4,
   "metadata": {},
   "outputs": [],
   "source": [
    "# Embedding\n",
    "def getEncodedDocs(docs):\n",
    "    encoded_docs = []\n",
    "\n",
    "    tokenizer = RegexpTokenizer(r'\\w+')\n",
    "    for doc in docs:\n",
    "        encoded_doc = []\n",
    "        for word in tokenizer.tokenize(doc.lower()):\n",
    "            index = wordToIndex[word]\n",
    "            if index is not None:\n",
    "                encoded_doc.append(index)\n",
    "            else:\n",
    "                encoded_doc.append(0)\n",
    "        encoded_docs.append(encoded_doc)\n",
    "\n",
    "    return encoded_docs"
   ]
  },
  {
   "cell_type": "markdown",
   "metadata": {},
   "source": [
    "# Import GloVe Pretrained dataset and create Embedding Weight Matrix"
   ]
  },
  {
   "cell_type": "code",
   "execution_count": 5,
   "metadata": {},
   "outputs": [],
   "source": [
    "max_length = 20\n",
    "wordToIndex, indexToWord, wordToGlove = readGloveFile(\"glove/glove.6B.100d.txt\")\n",
    "vocabLen, embDim, embeddingMatrix = createPretrainedEmbeddingMatrix(wordToGlove, wordToIndex)"
   ]
  },
  {
   "cell_type": "markdown",
   "metadata": {},
   "source": [
    "# Import intents file"
   ]
  },
  {
   "cell_type": "code",
   "execution_count": 6,
   "metadata": {},
   "outputs": [],
   "source": [
    "import json\n",
    "with open('PharmacyDataset.json') as json_data:\n",
    "    intents = json.load(json_data)"
   ]
  },
  {
   "cell_type": "markdown",
   "metadata": {},
   "source": [
    "# Padding, Encoding and Preparing final X and Y data for Training"
   ]
  },
  {
   "cell_type": "code",
   "execution_count": 7,
   "metadata": {},
   "outputs": [],
   "source": [
    "classes = []\n",
    "encodedUtterances = []\n",
    "\n",
    "# loop through each sentence in our intents utterances\n",
    "for intent in intents['intents']:\n",
    "    classes.append(intent['intent'])\n",
    "    encoded_docs = getEncodedDocs(intent['utterances'])\n",
    "    padded_docs = pad_sequences(encoded_docs, maxlen=max_length, padding='post')\n",
    "    encodedUtterances.append(padded_docs)\n"
   ]
  },
  {
   "cell_type": "code",
   "execution_count": 8,
   "metadata": {},
   "outputs": [
    {
     "name": "stdout",
     "output_type": "stream",
     "text": [
      "([u'greeting', u'goodbye', u'thanks', u'options', u'adverse_drug', u'blood_pressure', u'blood_pressure_search', u'pharmacy_search'], 'classes')\n",
      "(20, 'vector size')\n",
      "(26, 20, 'x')\n",
      "(26, 8, 'y')\n",
      "(26, 20)\n",
      "(26, 8)\n"
     ]
    }
   ],
   "source": [
    "currentClass = 0\n",
    "train_x = []\n",
    "train_y = []\n",
    "\n",
    "for intent in classes:\n",
    "    y = [0] * len(classes)\n",
    "    y[currentClass] = 1\n",
    "\n",
    "    for vector in encodedUtterances[currentClass]:\n",
    "        train_x.append(vector)\n",
    "        train_y.append(y)\n",
    "\n",
    "    currentClass += 1\n",
    "\n",
    "vectorSize = len(train_x[0])\n",
    "\n",
    "train_X = np.array(train_x)\n",
    "train_Y = np.array(train_y)\n",
    "\n",
    "print(classes, \"classes\")\n",
    "print(vectorSize, \"vector size\")\n",
    "print(len(train_x), len(train_x[0]), \"x\")\n",
    "print(len(train_y), len(train_y[0]), \"y\")\n",
    "print(train_X.shape)\n",
    "print(train_Y.shape)"
   ]
  },
  {
   "cell_type": "markdown",
   "metadata": {},
   "source": [
    "# Prepare and Compile Keras / TensorFlow model"
   ]
  },
  {
   "cell_type": "code",
   "execution_count": 9,
   "metadata": {},
   "outputs": [
    {
     "name": "stdout",
     "output_type": "stream",
     "text": [
      "model fitting - Bidirectional GRU\n",
      "_________________________________________________________________\n",
      "Layer (type)                 Output Shape              Param #   \n",
      "=================================================================\n",
      "embedding_1 (Embedding)      (None, 20, 100)           40000100  \n",
      "_________________________________________________________________\n",
      "bidirectional_1 (Bidirection (None, 20, 200)           160800    \n",
      "_________________________________________________________________\n",
      "global_max_pooling1d_1 (Glob (None, 200)               0         \n",
      "_________________________________________________________________\n",
      "dense_1 (Dense)              (None, 50)                10050     \n",
      "_________________________________________________________________\n",
      "dense_2 (Dense)              (None, 8)                 408       \n",
      "=================================================================\n",
      "Total params: 40,171,358\n",
      "Trainable params: 171,258\n",
      "Non-trainable params: 40,000,100\n",
      "_________________________________________________________________\n"
     ]
    }
   ],
   "source": [
    "#sequence_input = Input(shape=(None, len(train_x[0])), dtype='float')\n",
    "#bidiGru = Bidirectional(GRU(100))(sequence_input)\n",
    "#preds = Dense(len(train_y[0]), activation='softmax')(bidiGru)\n",
    "#model = Model(sequence_input, preds)\n",
    "#model.compile(loss='categorical_crossentropy', optimizer='rmsprop', metrics=['acc'])\n",
    "\n",
    "\n",
    "# NB using LSTM as CoreML only support LSTM in Bidirectional layer\n",
    "\n",
    "\n",
    "#model = Sequential([\n",
    "#                    Embedding(vocabLen, embDim, weights=[embeddingMatrix], input_length=max_length, trainable=False),\n",
    "#                    #GRU(embDim, batch_size=1, input_shape=(None, embDim), return_sequences=True),\n",
    "#                    #Bidirectional(GRU(embDim, batch_size=1, input_shape=(None, embDim), return_sequences=True)),\n",
    "#                    Bidirectional(LSTM(embDim, batch_size=1, input_shape=(None, embDim), return_sequences=True)),\n",
    "#                    TimeDistributed(Dense(64)),\n",
    "#                    Activation('relu'),\n",
    "#                    TimeDistributed(Dense(32)),\n",
    "#                    Activation('relu'),\n",
    "#                    Flatten(),\n",
    "#                    Dense(len(train_y[0]), activation='softmax')\n",
    "#                   ])\n",
    "\n",
    "\n",
    "#model = Sequential([\n",
    "#                    Embedding(vocabLen, embDim, weights=[embeddingMatrix], input_length=max_length, trainable=False),\n",
    "#                    Bidirectional(LSTM(embDim, batch_size=1, input_shape=(None, embDim), return_sequences=True, dropout=0.1, recurrent_dropout=0.1)),\n",
    "#                    GlobalMaxPool1D(),\n",
    "#                    Dense(50, activation=\"relu\"),\n",
    "#                    Dropout(0.1),\n",
    "#                    Dense(len(train_y[0]), activation='softmax')\n",
    "#                   ])\n",
    "\n",
    "model = Sequential([\n",
    "                    Embedding(vocabLen, embDim, weights=[embeddingMatrix], input_length=max_length, trainable=False),\n",
    "                    Bidirectional(LSTM(embDim, batch_size=1, input_shape=(None, embDim), return_sequences=True, dropout=0.0, recurrent_dropout=0.0)),\n",
    "                    GlobalMaxPool1D(),\n",
    "                    Dense(50, activation=\"relu\"),\n",
    "                    Dense(len(train_y[0]), activation='softmax')\n",
    "                   ])\n",
    "\n",
    "\n",
    "\n",
    "print(\"model fitting - Bidirectional GRU\")\n",
    "model.summary()\n"
   ]
  },
  {
   "cell_type": "code",
   "execution_count": 10,
   "metadata": {},
   "outputs": [],
   "source": [
    "# Compile model\n",
    "model.compile(loss='categorical_crossentropy', optimizer='adam', metrics=['accuracy'])"
   ]
  },
  {
   "cell_type": "markdown",
   "metadata": {},
   "source": [
    "# Train Model"
   ]
  },
  {
   "cell_type": "code",
   "execution_count": 11,
   "metadata": {},
   "outputs": [
    {
     "name": "stdout",
     "output_type": "stream",
     "text": [
      "Epoch 1/50\n",
      "26/26 [==============================] - 1s 27ms/step - loss: 2.0944 - acc: 0.2308\n",
      "Epoch 2/50\n",
      "26/26 [==============================] - 0s 842us/step - loss: 2.0429 - acc: 0.2692\n",
      "Epoch 3/50\n",
      "26/26 [==============================] - 0s 822us/step - loss: 1.9802 - acc: 0.3077\n",
      "Epoch 4/50\n",
      "26/26 [==============================] - 0s 887us/step - loss: 1.9266 - acc: 0.3846\n",
      "Epoch 5/50\n",
      "26/26 [==============================] - 0s 865us/step - loss: 1.8778 - acc: 0.4615\n",
      "Epoch 6/50\n",
      "26/26 [==============================] - 0s 854us/step - loss: 1.8248 - acc: 0.5385\n",
      "Epoch 7/50\n",
      "26/26 [==============================] - 0s 881us/step - loss: 1.7724 - acc: 0.5769\n",
      "Epoch 8/50\n",
      "26/26 [==============================] - 0s 904us/step - loss: 1.7212 - acc: 0.6154\n",
      "Epoch 9/50\n",
      "26/26 [==============================] - 0s 894us/step - loss: 1.6697 - acc: 0.6154\n",
      "Epoch 10/50\n",
      "26/26 [==============================] - 0s 926us/step - loss: 1.6169 - acc: 0.6538\n",
      "Epoch 11/50\n",
      "26/26 [==============================] - 0s 946us/step - loss: 1.5623 - acc: 0.6538\n",
      "Epoch 12/50\n",
      "26/26 [==============================] - 0s 957us/step - loss: 1.5065 - acc: 0.7308\n",
      "Epoch 13/50\n",
      "26/26 [==============================] - 0s 946us/step - loss: 1.4499 - acc: 0.7308\n",
      "Epoch 14/50\n",
      "26/26 [==============================] - 0s 954us/step - loss: 1.3929 - acc: 0.7692\n",
      "Epoch 15/50\n",
      "26/26 [==============================] - 0s 956us/step - loss: 1.3350 - acc: 0.7692\n",
      "Epoch 16/50\n",
      "26/26 [==============================] - 0s 923us/step - loss: 1.2768 - acc: 0.7692\n",
      "Epoch 17/50\n",
      "26/26 [==============================] - 0s 919us/step - loss: 1.2181 - acc: 0.8077\n",
      "Epoch 18/50\n",
      "26/26 [==============================] - 0s 926us/step - loss: 1.1586 - acc: 0.8462\n",
      "Epoch 19/50\n",
      "26/26 [==============================] - 0s 910us/step - loss: 1.0993 - acc: 0.8462\n",
      "Epoch 20/50\n",
      "26/26 [==============================] - 0s 941us/step - loss: 1.0406 - acc: 0.8462\n",
      "Epoch 21/50\n",
      "26/26 [==============================] - 0s 973us/step - loss: 0.9831 - acc: 0.8462\n",
      "Epoch 22/50\n",
      "26/26 [==============================] - 0s 949us/step - loss: 0.9269 - acc: 0.8462\n",
      "Epoch 23/50\n",
      "26/26 [==============================] - 0s 930us/step - loss: 0.8717 - acc: 0.8846\n",
      "Epoch 24/50\n",
      "26/26 [==============================] - 0s 975us/step - loss: 0.8168 - acc: 0.8846\n",
      "Epoch 25/50\n",
      "26/26 [==============================] - 0s 917us/step - loss: 0.7640 - acc: 0.8846\n",
      "Epoch 26/50\n",
      "26/26 [==============================] - 0s 900us/step - loss: 0.7128 - acc: 0.8846\n",
      "Epoch 27/50\n",
      "26/26 [==============================] - 0s 891us/step - loss: 0.6634 - acc: 0.9231\n",
      "Epoch 28/50\n",
      "26/26 [==============================] - 0s 902us/step - loss: 0.6160 - acc: 0.9615\n",
      "Epoch 29/50\n",
      "26/26 [==============================] - 0s 872us/step - loss: 0.5703 - acc: 0.9615\n",
      "Epoch 30/50\n",
      "26/26 [==============================] - 0s 931us/step - loss: 0.5260 - acc: 0.9615\n",
      "Epoch 31/50\n",
      "26/26 [==============================] - 0s 872us/step - loss: 0.4837 - acc: 1.0000\n",
      "Epoch 32/50\n",
      "26/26 [==============================] - 0s 975us/step - loss: 0.4436 - acc: 1.0000\n",
      "Epoch 33/50\n",
      "26/26 [==============================] - 0s 946us/step - loss: 0.4056 - acc: 1.0000\n",
      "Epoch 34/50\n",
      "26/26 [==============================] - 0s 919us/step - loss: 0.3694 - acc: 1.0000\n",
      "Epoch 35/50\n",
      "26/26 [==============================] - 0s 957us/step - loss: 0.3351 - acc: 1.0000\n",
      "Epoch 36/50\n",
      "26/26 [==============================] - 0s 957us/step - loss: 0.3029 - acc: 1.0000\n",
      "Epoch 37/50\n",
      "26/26 [==============================] - 0s 977us/step - loss: 0.2728 - acc: 1.0000\n",
      "Epoch 38/50\n",
      "26/26 [==============================] - 0s 915us/step - loss: 0.2453 - acc: 1.0000\n",
      "Epoch 39/50\n",
      "26/26 [==============================] - 0s 916us/step - loss: 0.2199 - acc: 1.0000\n",
      "Epoch 40/50\n",
      "26/26 [==============================] - 0s 887us/step - loss: 0.1964 - acc: 1.0000\n",
      "Epoch 41/50\n",
      "26/26 [==============================] - 0s 899us/step - loss: 0.1751 - acc: 1.0000\n",
      "Epoch 42/50\n",
      "26/26 [==============================] - 0s 912us/step - loss: 0.1561 - acc: 1.0000\n",
      "Epoch 43/50\n",
      "26/26 [==============================] - 0s 909us/step - loss: 0.1391 - acc: 1.0000\n",
      "Epoch 44/50\n",
      "26/26 [==============================] - 0s 903us/step - loss: 0.1236 - acc: 1.0000\n",
      "Epoch 45/50\n",
      "26/26 [==============================] - 0s 935us/step - loss: 0.1098 - acc: 1.0000\n",
      "Epoch 46/50\n",
      "26/26 [==============================] - 0s 931us/step - loss: 0.0972 - acc: 1.0000\n",
      "Epoch 47/50\n",
      "26/26 [==============================] - 0s 921us/step - loss: 0.0858 - acc: 1.0000\n",
      "Epoch 48/50\n",
      "26/26 [==============================] - 0s 977us/step - loss: 0.0756 - acc: 1.0000\n",
      "Epoch 49/50\n",
      "26/26 [==============================] - 0s 952us/step - loss: 0.0666 - acc: 1.0000\n",
      "Epoch 50/50\n",
      "26/26 [==============================] - 0s 968us/step - loss: 0.0584 - acc: 1.0000\n"
     ]
    },
    {
     "data": {
      "text/plain": [
       "<keras.callbacks.History at 0x126510790>"
      ]
     },
     "execution_count": 11,
     "metadata": {},
     "output_type": "execute_result"
    }
   ],
   "source": [
    "model.fit(train_X, train_Y, epochs=50)"
   ]
  },
  {
   "cell_type": "markdown",
   "metadata": {},
   "source": [
    "# Save Model"
   ]
  },
  {
   "cell_type": "code",
   "execution_count": 12,
   "metadata": {},
   "outputs": [],
   "source": [
    "model.save('SwiftNLCGloveRNN.h5')"
   ]
  },
  {
   "cell_type": "markdown",
   "metadata": {},
   "source": [
    "# Test Model"
   ]
  },
  {
   "cell_type": "code",
   "execution_count": 13,
   "metadata": {},
   "outputs": [
    {
     "name": "stdout",
     "output_type": "stream",
     "text": [
      "Loss: 5.114049 \n",
      "Accuracy: 100.000000 \n"
     ]
    }
   ],
   "source": [
    "# evaluate the model\n",
    "loss, accuracy = model.evaluate(train_X, train_Y, verbose=0)\n",
    "print('Loss: %f ' % (loss*100))\n",
    "print('Accuracy: %f ' % (accuracy*100))"
   ]
  },
  {
   "cell_type": "code",
   "execution_count": 14,
   "metadata": {},
   "outputs": [
    {
     "name": "stdout",
     "output_type": "stream",
     "text": [
      "{u'intents': [{u'intent': u'greeting', u'utterances': [u'Hi', u'How are you', u'Is anyone there?', u'Hello', u'Good day']}, {u'intent': u'goodbye', u'utterances': [u'Bye', u'See you later', u'Goodbye']}, {u'intent': u'thanks', u'utterances': [u'Thanks', u'Thank you', u\"That's helpful\"]}, {u'intent': u'options', u'utterances': [u'How you could help me?', u'What you can do?', u'What help you provide?']}, {u'intent': u'adverse_drug', u'utterances': [u'How to check Adverse drug reaction?', u'List all drugs suitable for patient with adverse reaction', u'Which drugs dont have adverse reaction?']}, {u'intent': u'blood_pressure', u'utterances': [u'Open blood pressure module', u'I want to log blood pressure results', u'Blood pressure data management']}, {u'intent': u'blood_pressure_search', u'utterances': [u'I want to search for blood pressure result history', u'Show blood pressure results for patient', u'Find blood pressure results by ID']}, {u'intent': u'pharmacy_search', u'utterances': [u'Find me a pharmacy', u'Locate pharmacy by name', u'Search pharmacy by parameter']}]}\n",
      "[[125540  78456 375636 151349 278750      0      0      0      0      0\n",
      "       0      0      0      0      0      0      0      0      0      0]]\n",
      "[[2.94252532e-04 3.12362863e-05 2.59341625e-03 4.02826612e-04\n",
      "  1.35247651e-02 1.37135135e-02 9.66334105e-01 3.10595287e-03]]\n",
      "0.9663341\n",
      "6\n",
      "blood_pressure_search\n"
     ]
    }
   ],
   "source": [
    "print(intents)\n",
    "\n",
    "#test = np.array([[178126, 0, 0, 0, 0, 0, 0, 0, 0, 0, 0, 0, 0, 0, 0, 0, 0, 0, 0, 0]])\n",
    "test_docs = getEncodedDocs([\"Display blood values for patient\"])\n",
    "padded_test_docs = pad_sequences(test_docs, maxlen=max_length, padding='post')\n",
    "\n",
    "print(padded_test_docs)\n",
    "\n",
    "y_pred = model.predict(padded_test_docs)\n",
    "print(y_pred)\n",
    "\n",
    "max_value = max(y_pred[0])\n",
    "print(max_value)\n",
    "\n",
    "max_index = y_pred[0].tolist().index(max_value)\n",
    "print(max_index)\n",
    "\n",
    "print(intents['intents'][max_index]['intent'])"
   ]
  },
  {
   "cell_type": "markdown",
   "metadata": {},
   "source": [
    "# Export Word Embedding Array"
   ]
  },
  {
   "cell_type": "code",
   "execution_count": 15,
   "metadata": {},
   "outputs": [
    {
     "name": "stdout",
     "output_type": "stream",
     "text": [
      "('biennials', 75684, 0)\n",
      "('tripolitan', 365444, 1)\n",
      "('biysk', 77319, 2)\n",
      "('woode', 389559, 3)\n",
      "('verplank', 377800, 4)\n",
      "('mdbo', 239051, 5)\n",
      "('sowell', 338477, 6)\n",
      "('mdbu', 239054, 7)\n",
      "('soestdijk', 336526, 8)\n",
      "('spiders', 339422, 9)\n"
     ]
    }
   ],
   "source": [
    "for i in range(0,10):\n",
    "    print(wordToIndex.keys()[i], wordToIndex[wordToIndex.keys()[i]], i)\n",
    "    \n",
    "import json\n",
    "with open('Words.json', 'w') as fp:\n",
    "    json.dump(wordToIndex, fp)\n"
   ]
  },
  {
   "cell_type": "markdown",
   "metadata": {},
   "source": [
    "# Export Model using CoreML Tools"
   ]
  },
  {
   "cell_type": "code",
   "execution_count": 18,
   "metadata": {},
   "outputs": [
    {
     "name": "stdout",
     "output_type": "stream",
     "text": [
      "0 : embedding_1_input, <keras.engine.topology.InputLayer object at 0x144dfd0d0>\n",
      "1 : embedding_1, <keras.layers.embeddings.Embedding object at 0x12b413c10>\n",
      "2 : bidirectional_1, <keras.layers.wrappers.Bidirectional object at 0x12b413e50>\n",
      "3 : bidirectional_1_permute_global_max_pooling1d_1, <keras.layers.core.Permute object at 0x11945b450>\n",
      "4 : global_max_pooling1d_1, <keras.layers.pooling.GlobalMaxPooling1D object at 0x10ec75e50>\n",
      "5 : global_max_pooling1d_1_permute_dense_1, <keras.layers.core.Permute object at 0x11945b510>\n",
      "6 : dense_1, <keras.layers.core.Dense object at 0x10ec75710>\n",
      "7 : dense_1__activation__, <keras.layers.core.Activation object at 0x11945b610>\n",
      "8 : dense_2, <keras.layers.core.Dense object at 0x10ec75fd0>\n",
      "9 : dense_2__activation__, <keras.layers.core.Activation object at 0x11945b210>\n"
     ]
    },
    {
     "data": {
      "text/plain": [
       "input {\n",
       "  name: \"vectors\"\n",
       "  type {\n",
       "    multiArrayType {\n",
       "      shape: 1\n",
       "      dataType: DOUBLE\n",
       "    }\n",
       "  }\n",
       "}\n",
       "input {\n",
       "  name: \"bidirectional_1_h_in\"\n",
       "  type {\n",
       "    multiArrayType {\n",
       "      shape: 100\n",
       "      dataType: DOUBLE\n",
       "    }\n",
       "    isOptional: true\n",
       "  }\n",
       "}\n",
       "input {\n",
       "  name: \"bidirectional_1_c_in\"\n",
       "  type {\n",
       "    multiArrayType {\n",
       "      shape: 100\n",
       "      dataType: DOUBLE\n",
       "    }\n",
       "    isOptional: true\n",
       "  }\n",
       "}\n",
       "input {\n",
       "  name: \"bidirectional_1_h_in_rev\"\n",
       "  type {\n",
       "    multiArrayType {\n",
       "      shape: 100\n",
       "      dataType: DOUBLE\n",
       "    }\n",
       "    isOptional: true\n",
       "  }\n",
       "}\n",
       "input {\n",
       "  name: \"bidirectional_1_c_in_rev\"\n",
       "  type {\n",
       "    multiArrayType {\n",
       "      shape: 100\n",
       "      dataType: DOUBLE\n",
       "    }\n",
       "    isOptional: true\n",
       "  }\n",
       "}\n",
       "output {\n",
       "  name: \"entities\"\n",
       "  type {\n",
       "    multiArrayType {\n",
       "      shape: 8\n",
       "      dataType: DOUBLE\n",
       "    }\n",
       "  }\n",
       "}\n",
       "output {\n",
       "  name: \"bidirectional_1_h_out\"\n",
       "  type {\n",
       "    multiArrayType {\n",
       "      shape: 100\n",
       "      dataType: DOUBLE\n",
       "    }\n",
       "  }\n",
       "}\n",
       "output {\n",
       "  name: \"bidirectional_1_c_out\"\n",
       "  type {\n",
       "    multiArrayType {\n",
       "      shape: 100\n",
       "      dataType: DOUBLE\n",
       "    }\n",
       "  }\n",
       "}\n",
       "output {\n",
       "  name: \"bidirectional_1_h_out_rev\"\n",
       "  type {\n",
       "    multiArrayType {\n",
       "      shape: 100\n",
       "      dataType: DOUBLE\n",
       "    }\n",
       "  }\n",
       "}\n",
       "output {\n",
       "  name: \"bidirectional_1_c_out_rev\"\n",
       "  type {\n",
       "    multiArrayType {\n",
       "      shape: 100\n",
       "      dataType: DOUBLE\n",
       "    }\n",
       "  }\n",
       "}"
      ]
     },
     "execution_count": 18,
     "metadata": {},
     "output_type": "execute_result"
    }
   ],
   "source": [
    "import coremltools\n",
    "coreml_model = coremltools.converters.keras.convert(model, input_names=\"vectors\", output_names=\"entities\")\n",
    "coreml_model"
   ]
  },
  {
   "cell_type": "code",
   "execution_count": 19,
   "metadata": {},
   "outputs": [],
   "source": [
    "coreml_model.save('SwiftNLCGloveRNN.mlmodel')"
   ]
  },
  {
   "cell_type": "code",
   "execution_count": null,
   "metadata": {},
   "outputs": [],
   "source": []
  }
 ],
 "metadata": {
  "kernelspec": {
   "display_name": "Python 2",
   "language": "python",
   "name": "python2"
  },
  "language_info": {
   "codemirror_mode": {
    "name": "ipython",
    "version": 2
   },
   "file_extension": ".py",
   "mimetype": "text/x-python",
   "name": "python",
   "nbconvert_exporter": "python",
   "pygments_lexer": "ipython2",
   "version": "2.7.14"
  }
 },
 "nbformat": 4,
 "nbformat_minor": 2
}
